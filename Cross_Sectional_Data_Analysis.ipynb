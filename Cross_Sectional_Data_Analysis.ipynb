{
  "nbformat": 4,
  "nbformat_minor": 0,
  "metadata": {
    "colab": {
      "provenance": [],
      "include_colab_link": true
    },
    "kernelspec": {
      "name": "python3",
      "display_name": "Python 3"
    },
    "language_info": {
      "name": "python"
    }
  },
  "cells": [
    {
      "cell_type": "markdown",
      "metadata": {
        "id": "view-in-github",
        "colab_type": "text"
      },
      "source": [
        "<a href=\"https://colab.research.google.com/github/olivercase/EC3365/blob/main/Cross_Sectional_Data_Analysis.ipynb\" target=\"_parent\"><img src=\"https://colab.research.google.com/assets/colab-badge.svg\" alt=\"Open In Colab\"/></a>"
      ]
    },
    {
      "cell_type": "code",
      "execution_count": null,
      "metadata": {
        "id": "sfWnaIV6mAHt"
      },
      "outputs": [],
      "source": [
        "import numpy as np\n",
        "import pandas as pd\n",
        "import matplotlib.pyplot as plt\n",
        "import seaborn as sns\n",
        "import statsmodels.api as sm"
      ]
    },
    {
      "cell_type": "markdown",
      "source": [
        "#Read the Dataset"
      ],
      "metadata": {
        "id": "-p4R0XiwqMbO"
      }
    },
    {
      "cell_type": "code",
      "source": [
        "url2 = 'https://raw.githubusercontent.com/mjonuzaj/EC3365/main/bek-data.txt'\n",
        "\n",
        "df = pd.read_csv(url2, delimiter='\\t', header=None)"
      ],
      "metadata": {
        "id": "RJMQ1ydyp7id"
      },
      "execution_count": null,
      "outputs": []
    },
    {
      "cell_type": "code",
      "source": [
        "df.head()"
      ],
      "metadata": {
        "id": "CyiUrlYhqXyr"
      },
      "execution_count": null,
      "outputs": []
    },
    {
      "cell_type": "code",
      "source": [
        "df.columns = ['Year', 'Firm', 'lsales', 'lk', 'lemp', 'skl', 'lm', 'foreign', 'exporter', 'intagibles', 'state', 'latitude', 'longitude']"
      ],
      "metadata": {
        "id": "N0vPAD7Jqinf"
      },
      "execution_count": null,
      "outputs": []
    },
    {
      "cell_type": "code",
      "source": [
        "# keep the data for year 2005\n",
        "df_new = df.loc[df['Year'] == 2005]"
      ],
      "metadata": {
        "id": "blYowJZxsTb2"
      },
      "execution_count": null,
      "outputs": []
    },
    {
      "cell_type": "code",
      "source": [
        "df_new.head()"
      ],
      "metadata": {
        "id": "_61WOPkMsdB4"
      },
      "execution_count": null,
      "outputs": []
    },
    {
      "cell_type": "markdown",
      "source": [
        "# Data Analysis"
      ],
      "metadata": {
        "id": "kIsdkLxRuHgn"
      }
    },
    {
      "cell_type": "code",
      "source": [
        "numeric_columns = ['lsales', 'lk', 'lemp', 'skl']\n",
        "df_numeric = df_new[numeric_columns]\n",
        "\n",
        "correlation_matrix = df_numeric.corr()\n",
        "print(correlation_matrix)"
      ],
      "metadata": {
        "id": "26DsUqkkT7e7"
      },
      "execution_count": null,
      "outputs": []
    },
    {
      "cell_type": "code",
      "source": [
        "plt.figure(figsize=(8,6))\n",
        "sns.heatmap(correlation_matrix, annot=True, cmap='coolwarm')\n",
        "plt.title('Correlation Map')\n",
        "plt.show()"
      ],
      "metadata": {
        "id": "uhQsSuLyUjoE"
      },
      "execution_count": null,
      "outputs": []
    },
    {
      "cell_type": "code",
      "source": [
        "plt.figure(figsize=(8,6))\n",
        "sns.scatterplot(data=df_new, x='lk', y='lsales', hue='exporter', marker='o')\n",
        "plt.ylim(3,17)\n",
        "plt.show()"
      ],
      "metadata": {
        "id": "7cBP5Wtcu61A"
      },
      "execution_count": null,
      "outputs": []
    },
    {
      "cell_type": "code",
      "source": [
        "plt.figure(figsize=(8,6))\n",
        "sns.scatterplot(data=df_new, x='lemp', y='lsales', hue='exporter', marker='o')\n",
        "plt.ylim(3,17)\n",
        "plt.show()"
      ],
      "metadata": {
        "id": "Mb2Ts3FUW_ho"
      },
      "execution_count": null,
      "outputs": []
    },
    {
      "cell_type": "code",
      "source": [
        "plt.figure(figsize=(8,6))\n",
        "sns.boxplot(data=df_new, x='state', y='lsales')\n",
        "plt.show()"
      ],
      "metadata": {
        "id": "kuASYIW8uHFA"
      },
      "execution_count": null,
      "outputs": []
    },
    {
      "cell_type": "code",
      "source": [
        "df_new['llp'] = df_new['lsales'] - df_new['lemp']"
      ],
      "metadata": {
        "id": "FvjLXt8BKnc7"
      },
      "execution_count": null,
      "outputs": []
    },
    {
      "cell_type": "code",
      "source": [
        "sns.boxplot(data=df_new, x='exporter', y='llp')\n",
        "plt.show()"
      ],
      "metadata": {
        "id": "4-8VCyBBMzDi"
      },
      "execution_count": null,
      "outputs": []
    },
    {
      "cell_type": "markdown",
      "source": [
        "# Regression Analysis\n",
        "\n",
        "Our model will have the form:\n",
        "\n",
        "$y_{i} = \\beta_{0} + \\beta_{1} k_{i} + \\beta_{2} l_{i} + \\beta_{3} m_{i} + e_{i}$"
      ],
      "metadata": {
        "id": "RiDexuGfQbLk"
      }
    },
    {
      "cell_type": "code",
      "source": [
        "df_new.head()"
      ],
      "metadata": {
        "id": "aljeLn3VQgBJ"
      },
      "execution_count": null,
      "outputs": []
    },
    {
      "cell_type": "code",
      "source": [
        "Y = df_new['lsales']\n",
        "X = df_new[['lk','lemp','lm']]\n",
        "X = sm.add_constant(X)"
      ],
      "metadata": {
        "id": "XigeXTpxQnTT"
      },
      "execution_count": null,
      "outputs": []
    },
    {
      "cell_type": "code",
      "source": [
        "model = sm.OLS(Y,X).fit()\n",
        "print(model.summary())"
      ],
      "metadata": {
        "id": "UxBK1399Rkin"
      },
      "execution_count": null,
      "outputs": []
    },
    {
      "cell_type": "markdown",
      "source": [
        "# Total Factor Productivity\n",
        "\n",
        "Total factor Productivity can be obtained as:\n",
        "\n",
        "$\\omega_{i} = y_{i} - \\hat{\\beta_{1}} k_{i} - \\hat{\\beta}_{2} l_{i} - \\hat{\\beta}**_**{3} m_{i}$"
      ],
      "metadata": {
        "id": "8b6acRWLWFqg"
      }
    },
    {
      "cell_type": "code",
      "source": [
        "tfp = Y - model.params.values[1] * X['lk'] + model.params.values[2] * X['lemp'] + model.params.values[3] * X['lm']"
      ],
      "metadata": {
        "id": "SNOi3FUVRvbo"
      },
      "execution_count": null,
      "outputs": []
    },
    {
      "cell_type": "code",
      "source": [
        "df_new['tfp'] = tfp"
      ],
      "metadata": {
        "id": "NH_XmAM7we_J"
      },
      "execution_count": null,
      "outputs": []
    },
    {
      "cell_type": "code",
      "source": [
        "plt.figure(figsize=(8,6))\n",
        "plt.hist(tfp, bins=100, edgecolor='grey', density=True)\n",
        "sns.kdeplot(data=df_new, x='tfp',color='red')\n",
        "plt.xlabel('TFP in Natural Logarithm')\n",
        "plt.show()"
      ],
      "metadata": {
        "id": "D6LH-Gqt64mD"
      },
      "execution_count": null,
      "outputs": []
    },
    {
      "cell_type": "code",
      "source": [
        "df_2 = df_new[['tfp','lemp', 'lk']]"
      ],
      "metadata": {
        "id": "kIqzTIq_80vP"
      },
      "execution_count": null,
      "outputs": []
    },
    {
      "cell_type": "code",
      "source": [
        "plt.figure(figsize=(12,8))\n",
        "plt.subplot(1, 2, 1)  # 1 row, 2 columns, subplot 1\n",
        "sns.regplot(x=df_2['lemp'], y=df_2['tfp'],line_kws={\"color\": \"red\"}, scatter_kws={\"color\": \"blue\", \"s\": 10, \"alpha\": 0.5})\n",
        "plt.title('TFP vs Labour')\n",
        "\n",
        "plt.subplot(1, 2, 2)  # 1 row, 2 columns, subplot 2\n",
        "sns.regplot(x=df_2['lk'], y=df_2['tfp'],line_kws={\"color\": \"red\"}, scatter_kws={\"color\": \"blue\", \"s\": 10, \"alpha\": 0.5})\n",
        "plt.title('TFP vs Capital')\n",
        "\n",
        "# Adjust layout for better spacing\n",
        "plt.tight_layout()\n",
        "\n",
        "# Show the plots\n",
        "plt.show()"
      ],
      "metadata": {
        "id": "kH6AsUxt9T-E"
      },
      "execution_count": null,
      "outputs": []
    },
    {
      "cell_type": "code",
      "source": [
        "plt.figure(figsize=(8,6))\n",
        "sns.violinplot(data=df_new, x ='state', y='tfp',color='orange')\n",
        "\n",
        "plt.show()"
      ],
      "metadata": {
        "id": "i6IkOeaKSTuE"
      },
      "execution_count": null,
      "outputs": []
    },
    {
      "cell_type": "markdown",
      "source": [
        "# Determinants of TFP"
      ],
      "metadata": {
        "id": "NDscZ9vhWusw"
      }
    },
    {
      "cell_type": "code",
      "source": [
        "Y = df_new['tfp']\n",
        "\n",
        "X = df_new[['state']]\n",
        "X = sm.add_constant(X)\n",
        "\n",
        "model = sm.OLS(Y,X).fit()\n",
        "print(model.summary())"
      ],
      "metadata": {
        "id": "yW6xIXD1CbHc"
      },
      "execution_count": null,
      "outputs": []
    },
    {
      "cell_type": "code",
      "source": [
        "plt.figure(figsize=(8,6))\n",
        "sns.scatterplot(data=df_new, x ='skl', y='tfp', s=10, alpha=0.5)\n",
        "plt.show()"
      ],
      "metadata": {
        "id": "5lgoqx3MT2Ci"
      },
      "execution_count": null,
      "outputs": []
    },
    {
      "cell_type": "code",
      "source": [
        "Y = df_new['tfp']\n",
        "\n",
        "X = df_new[['state', 'exporter', 'skl', 'lemp', 'lk']]\n",
        "X = sm.add_constant(X)\n",
        "\n",
        "model = sm.OLS(Y,X).fit()\n",
        "print(model.summary())"
      ],
      "metadata": {
        "id": "HZ4TYUgDUD9d"
      },
      "execution_count": null,
      "outputs": []
    },
    {
      "cell_type": "code",
      "source": [
        "thetas = model.params.values[1:]\n",
        "ses = model.bse.values[1:]\n",
        "names = model.params.index[1:]\n",
        "\n",
        "plt.figure(figsize=(8,6))\n",
        "plt.errorbar(x=names, y=thetas, yerr= 1.96 * ses, fmt='o', capsize=10)\n",
        "plt.axhline(y=0, color='red')\n",
        "plt.ylabel('Parameter Estimates and 95% CI')\n",
        "plt.show()"
      ],
      "metadata": {
        "colab": {
          "base_uri": "https://localhost:8080/",
          "height": 522
        },
        "id": "WzK_FkwsHUFp",
        "outputId": "ca89a3c7-1752-43ad-c6ea-5f6143901fdf"
      },
      "execution_count": null,
      "outputs": [
        {
          "output_type": "display_data",
          "data": {
            "text/plain": [
              "<Figure size 800x600 with 1 Axes>"
            ],
            "image/png": "[encoded data removed]"
          },
          "metadata": {}
        }
      ]
    }
  ]
}