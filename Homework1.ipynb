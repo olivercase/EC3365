{
  "cells": [
    {
      "cell_type": "markdown",
      "metadata": {
        "id": "view-in-github",
        "colab_type": "text"
      },
      "source": [
        "<a href=\"https://colab.research.google.com/github/olivercase/EC3365/blob/main/Homework1.ipynb\" target=\"_parent\"><img src=\"https://colab.research.google.com/assets/colab-badge.svg\" alt=\"Open In Colab\"/></a>"
      ]
    },
    {
      "cell_type": "code",
      "execution_count": null,
      "metadata": {
        "id": "FQqNs4nnnXjM"
      },
      "outputs": [],
      "source": [
        "import numpy as np\n",
        "import pandas as pd\n",
        "import matplotlib.pyplot as plt\n",
        "import seaborn as sns\n",
        "import statsmodels.api as sm"
      ]
    },
    {
      "cell_type": "code",
      "execution_count": null,
      "metadata": {
        "id": "YArOoduQnbTa"
      },
      "outputs": [],
      "source": [
        "path = '/content/Credit.csv'\n",
        "df = pd.read_csv(path)\n",
        "df"
      ]
    },
    {
      "cell_type": "code",
      "execution_count": null,
      "metadata": {
        "id": "iOGhwuJVn38I"
      },
      "outputs": [],
      "source": [
        "print(df.head())\n",
        "print(df.info())\n",
        "df.rename(columns={'Rating': 'Credit Score'}, inplace=True)"
      ]
    },
    {
      "cell_type": "code",
      "execution_count": null,
      "metadata": {
        "id": "8wpUnKtUoVbW"
      },
      "outputs": [],
      "source": [
        "numeric_cols = df.select_dtypes(include=['number'])\n",
        "summary_stats_numeric = numeric_cols.describe().transpose()\n",
        "\n",
        "summary_stats_numeric['range'] = numeric_cols.max() - numeric_cols.min()\n",
        "summary_stats_numeric['IQR'] = numeric_cols.quantile(0.75) - numeric_cols.quantile(0.25)\n",
        "\n",
        "categorical_cols = df.select_dtypes(include=['object', 'category'])\n",
        "summary_stats_categorical = categorical_cols.apply(pd.Series.value_counts)\n",
        "\n",
        "print(\"Numeric Columns Summary:\\n\", summary_stats_numeric)\n",
        "print(\"\\nCategorical Columns Summary:\\n\", summary_stats_categorical)"
      ]
    },
    {
      "cell_type": "code",
      "execution_count": null,
      "metadata": {
        "id": "ehj_UHWMGu1h"
      },
      "outputs": [],
      "source": [
        "fig, ax = plt.subplots(figsize=(8, 4))\n",
        "sns.kdeplot(df['Income'], shade=True, color='#B4BA39')\n",
        "ax.grid(which=\"major\", axis='y', color='#758D99', alpha=0.6, zorder=1)\n",
        "ax.spines[['top', 'right', 'bottom']].set_visible(False)\n",
        "ax.spines['left'].set_linewidth(1.1)\n",
        "ax.set_xticklabels(ax.get_xticks())\n",
        "ax.set_yticklabels(ax.get_yticks())\n",
        "ax.set_title(\"Density of Income\", loc='left', fontsize=13, fontweight='bold')"
      ]
    },
    {
      "cell_type": "code",
      "execution_count": null,
      "metadata": {
        "id": "kHwkrAU-8gB7"
      },
      "outputs": [],
      "source": [
        "corr_matrix = df.corr()\n",
        "\n",
        "cmap = sns.diverging_palette(230, 20, as_cmap=True)\n",
        "mask = np.triu(np.ones_like(corr_matrix, dtype=bool))\n",
        "\n",
        "plt.figure(figsize=(10, 8))\n",
        "sns.heatmap(corr_matrix, annot=True, cmap=cmap, fmt=\".2f\", mask=mask)\n",
        "sns.heatmap(corr_matrix.loc[['Credit Score'],:], annot=True, cmap=['#E3120B'], fmt=\".2f\", cbar=False, mask=mask)\n",
        "sns.heatmap(corr_matrix.loc[:,['Credit Score']], annot=True, cmap=['#E3120B'], fmt=\".2f\", cbar=False, mask=mask)\n",
        "\n",
        "plt.title('Correlation Heatmap of Credit', loc='left', fontsize=13, weight='bold')\n",
        "plt.xticks(rotation=45, ha='right', fontsize=10)\n",
        "plt.yticks(rotation=0, fontsize=10)\n",
        "plt.gca().spines[['top', 'right', 'bottom', 'left']].set_visible(False)\n",
        "plt.tight_layout()\n",
        "plt.show()"
      ]
    },
    {
      "cell_type": "code",
      "execution_count": null,
      "metadata": {
        "id": "lpFwgkr6_JHj"
      },
      "outputs": [],
      "source": [
        "economist_palette = {'#E3120B', '#006BA2',  '#DB444B', }\n",
        "\n",
        "fig, ax = plt.subplots(figsize=(10, 6))\n",
        "sns.scatterplot(data=df, x='Income', y='Credit Score', alpha=0.5, hue='Region', palette=economist_palette)\n",
        "\n",
        "# Styling\n",
        "ax.grid(which=\"major\", axis='y', color='#758D99', alpha=0.6, zorder=1)\n",
        "ax.spines[['top', 'right', 'bottom']].set_visible(False)\n",
        "ax.spines['left'].set_linewidth(1.1)\n",
        "ax.set_xlabel(\"Income\", fontsize=11, alpha=0.8)\n",
        "ax.set_ylabel(\"Credit Score\", fontsize=11, alpha=0.8)\n",
        "ax.xaxis.set_tick_params(labelsize=10)\n",
        "ax.yaxis.set_tick_params(labelsize=10)\n",
        "ax.set_xticklabels([f\"{x:.0f}\" for x in ax.get_xticks()])\n",
        "ax.set_yticklabels([f\"{y:.0f}\" for y in ax.get_yticks()])\n",
        "plt.title('Income vs. Credit Score by Region', loc='left', fontsize=13, fontweight='bold')\n",
        "plt.legend(title='Region', bbox_to_anchor=(1.05, 1), loc='upper left')\n",
        "plt.tight_layout()\n",
        "plt.show()"
      ]
    },
    {
      "cell_type": "code",
      "execution_count": null,
      "metadata": {
        "id": "O_kA1EDI_vfS"
      },
      "outputs": [],
      "source": [
        "my_palette = {'#E3120B', '#006BA2',  '#DB444B', }\n",
        "\n",
        "fig, ax = plt.subplots(figsize=(10, 6))\n",
        "sns.scatterplot(data=df, x='Limit', y='Credit Score', alpha=0.5, hue='Region', palette=my_palette)\n",
        "\n",
        "# Styling\n",
        "ax.grid(which=\"major\", axis='y', color='#758D99', alpha=0.6, zorder=1)\n",
        "ax.spines[['top', 'right', 'bottom']].set_visible(False)\n",
        "ax.spines['left'].set_linewidth(1.1)\n",
        "ax.set_xlabel(\"Limit\", fontsize=11, alpha=0.8)\n",
        "ax.set_ylabel(\"Credit Score\", fontsize=11, alpha=0.8)\n",
        "ax.xaxis.set_tick_params(labelsize=10)\n",
        "ax.yaxis.set_tick_params(labelsize=10)\n",
        "ax.set_xticklabels([f\"{x:.0f}\" for x in ax.get_xticks()])\n",
        "ax.set_yticklabels([f\"{y:.0f}\" for y in ax.get_yticks()])\n",
        "plt.title('Limit vs. Credit Score by Region', loc='left', fontsize=13, fontweight='bold')\n",
        "plt.legend(title='Region', bbox_to_anchor=(1.05, 1), loc='upper left')\n",
        "plt.tight_layout()\n",
        "plt.show()"
      ]
    },
    {
      "cell_type": "code",
      "execution_count": null,
      "metadata": {
        "id": "M4Neta_kABpT"
      },
      "outputs": [],
      "source": [
        "\n",
        "fig, ax = plt.subplots(figsize=(10, 6))\n",
        "sns.scatterplot(data=df, x='Age', y='Credit Score', alpha=0.5, hue='Region', palette=my_palette)\n",
        "\n",
        "# Styling\n",
        "ax.grid(which=\"major\", axis='y', color='#758D99', alpha=0.6, zorder=1)\n",
        "ax.spines[['top', 'right', 'bottom']].set_visible(False)\n",
        "ax.spines['left'].set_linewidth(1.1)\n",
        "ax.set_xlabel(\"Age\", fontsize=11, alpha=0.8)\n",
        "ax.set_ylabel(\"Credit Score\", fontsize=11, alpha=0.8)\n",
        "ax.xaxis.set_tick_params(labelsize=10)\n",
        "ax.yaxis.set_tick_params(labelsize=10)\n",
        "ax.set_xticklabels([f\"{x:.0f}\" for x in ax.get_xticks()])\n",
        "ax.set_yticklabels([f\"{y:.0f}\" for y in ax.get_yticks()])\n",
        "plt.title('Age vs. Credit Score by Region', loc='left', fontsize=13, fontweight='bold')\n",
        "plt.legend(title='Region', bbox_to_anchor=(1.05, 1), loc='upper left')\n",
        "plt.tight_layout()\n",
        "plt.show()"
      ]
    },
    {
      "cell_type": "code",
      "execution_count": null,
      "metadata": {
        "id": "z-SyaCqXtBp8"
      },
      "outputs": [],
      "source": [
        "\n",
        "fig, ax = plt.subplots(figsize=(10, 6))\n",
        "sns.histplot(df['Age'], kde=False, color='#006BA2')\n",
        "\n",
        "# Styling\n",
        "ax.grid(which=\"major\", axis='y', color='#758D99', alpha=0.6, zorder=1)\n",
        "ax.spines[['top', 'right', 'bottom']].set_visible(False)\n",
        "ax.spines['left'].set_linewidth(1.1)\n",
        "ax.set_xlabel(\"Age\", fontsize=11, alpha=0.8)\n",
        "ax.set_ylabel(\"Frequency\", fontsize=11, alpha=0.8)\n",
        "ax.xaxis.set_tick_params(labelsize=10)\n",
        "ax.yaxis.set_tick_params(labelsize=10)\n",
        "plt.title('Age Distribution', loc='left', fontsize=13, fontweight='bold')\n",
        "plt.tight_layout()\n",
        "plt.show()"
      ]
    },
    {
      "cell_type": "code",
      "execution_count": null,
      "metadata": {
        "id": "CP2zGOSltf4d"
      },
      "outputs": [],
      "source": [
        "credit_score_palette = sns.diverging_palette(230, 20, as_cmap=True)\n",
        "\n",
        "\n",
        "fig, ax = plt.subplots(figsize=(10, 6))\n",
        "sns.scatterplot(data=df, x='Income', y='Limit', hue='Credit Score', palette=credit_score_palette)\n",
        "\n",
        "# Styling\n",
        "ax.grid(which=\"major\", axis='y', color='#758D99', alpha=0.6, zorder=1)\n",
        "ax.spines[['top', 'right']].set_visible(False)\n",
        "ax.spines['bottom'].set_linewidth(1.1)\n",
        "ax.set_xlabel(\"Income\", fontsize=11, alpha=0.8)\n",
        "ax.set_ylabel(\"Limit\", fontsize=11, alpha=0.8)\n",
        "ax.xaxis.set_tick_params(labelsize=10)\n",
        "ax.yaxis.set_tick_params(labelsize=10)\n",
        "plt.title('Income vs. Limit by Credit Score', loc='left', fontsize=13, fontweight='bold')\n",
        "plt.legend(title='Credit Score', bbox_to_anchor=(1.05, 1), loc='upper left')\n",
        "plt.tight_layout()\n",
        "plt.show()"
      ]
    },
    {
      "cell_type": "code",
      "execution_count": null,
      "metadata": {
        "id": "hcu-iUiDtkiX"
      },
      "outputs": [],
      "source": [
        "\n",
        "fig, ax = plt.subplots(figsize=(10, 6))\n",
        "sns.histplot(df['Income'], kde=True, color='#006BA2')\n",
        "\n",
        "# Styling\n",
        "ax.grid(which=\"major\", axis='y', color='#758D99', alpha=0.6, zorder=1)\n",
        "ax.spines[['top', 'right', 'bottom']].set_visible(False)\n",
        "ax.spines['left'].set_linewidth(1.1)\n",
        "ax.set_xlabel(\"Income\", fontsize=11, alpha=0.8)\n",
        "ax.set_ylabel(\"Frequency\", fontsize=11, alpha=0.8)\n",
        "ax.xaxis.set_tick_params(labelsize=10)\n",
        "ax.yaxis.set_tick_params(labelsize=10)\n",
        "plt.title('Income Distribution', loc='left', fontsize=13, fontweight='bold')\n",
        "plt.tight_layout()\n",
        "plt.show()"
      ]
    },
    {
      "cell_type": "code",
      "execution_count": null,
      "metadata": {
        "id": "BJ5nV0C3tnvk"
      },
      "outputs": [],
      "source": [
        "X_income = sm.add_constant(df['Income'])\n",
        "model_income = sm.OLS(df['Credit Score'], X_income).fit()\n",
        "\n",
        "print(\"Regression: Income vs Credit Score\")\n",
        "print(model_income.summary())"
      ]
    },
    {
      "cell_type": "code",
      "execution_count": null,
      "metadata": {
        "id": "aOBzZjR4GFUd"
      },
      "outputs": [],
      "source": [
        "X_limit = sm.add_constant(df['Limit'])\n",
        "model_limit = sm.OLS(df['Credit Score'], X_limit).fit()\n",
        "\n",
        "print(\"\\nRegression: Limit vs Credit Score\")\n",
        "print(model_limit.summary())"
      ]
    },
    {
      "cell_type": "code",
      "execution_count": null,
      "metadata": {
        "id": "2S9SWymnEJHE"
      },
      "outputs": [],
      "source": [
        "def plot_regression(df, x_var, y_var, model, ax, title):\n",
        "    sns.scatterplot(data=df, x=x_var, y=y_var, color='#006BA2', ax=ax)\n",
        "    x_values = np.linspace(df[x_var].min(), df[x_var].max(), 100)\n",
        "    y_pred = model.params[0] + model.params[1] * x_values\n",
        "    sns.lineplot(x=x_values, y=y_pred, color='#E3120B', ax=ax)\n",
        "    ax.set_title(title, fontsize=13, fontweight='bold', loc='left')\n",
        "    ax.grid(which=\"major\", axis='y', color='#758D99', alpha=0.6)\n",
        "    ax.spines[['top', 'right', 'bottom']].set_visible(False)\n",
        "    ax.spines['left'].set_linewidth(1.1)\n",
        "\n",
        "fig, axes = plt.subplots(1, 2, figsize=(15, 6))\n",
        "plot_regression(df, 'Income', 'Credit Score', model_income, axes[0], 'Income vs Credit Score')\n",
        "plot_regression(df, 'Limit', 'Credit Score', model_limit, axes[1], 'Limit vs Credit Score')\n",
        "plt.tight_layout()\n",
        "plt.show()\n"
      ]
    },
    {
      "cell_type": "code",
      "source": [
        "X_combine = df[['Income', 'Limit']]\n",
        "X_combine = sm.add_constant(X_combine)\n",
        "Y_combine = df['Credit Score']\n",
        "\n",
        "model_combine = sm.OLS(Y_combine, X_combine).fit()\n",
        "\n",
        "print(\"\\nRegression: Limit and Income vs Credit Score\")\n",
        "print(model_combine.summary())"
      ],
      "metadata": {
        "id": "1CnamBaJI2Li"
      },
      "execution_count": null,
      "outputs": []
    },
    {
      "cell_type": "code",
      "source": [
        "vif_data = pd.df()\n",
        "vif_data['Feature'] = X_combine.columns\n",
        "vif_data['VIF'] = [variance_inflation_factor(X_combine.values, i) for i in range(X_combine.shape[1])]"
      ],
      "metadata": {
        "id": "5JCcRHeDLsGV"
      },
      "execution_count": null,
      "outputs": []
    }
  ],
  "metadata": {
    "colab": {
      "provenance": [],
      "authorship_tag": "ABX9TyN20mwfsNg/sOP6DeU3kHRL",
      "include_colab_link": true
    },
    "kernelspec": {
      "display_name": "Python 3",
      "name": "python3"
    },
    "language_info": {
      "name": "python"
    }
  },
  "nbformat": 4,
  "nbformat_minor": 0
}